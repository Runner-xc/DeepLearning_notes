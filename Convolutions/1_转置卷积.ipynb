{
 "cells": [
  {
   "cell_type": "markdown",
   "metadata": {},
   "source": [
    "# 1. 转置卷积\n",
    "\n",
    "> 转置卷积可用于上采样\n",
    "- 转置卷积不是卷积的逆运算（卷积操作不可逆）\n",
    "- 转置卷积也是卷积\n",
    "- 转置卷积可以通过将使用卷积矩阵转置称原图矩阵得到？\n",
    "- 卷积运算的反向传播是通过转置卷积实现的？\n"
   ]
  },
  {
   "cell_type": "markdown",
   "metadata": {},
   "source": [
    "## 1.1 转置卷积的运算步骤\n",
    "1. 在输出特征图元素间填充s-1行、列0\n",
    "2. 在输入特征图四周填充k-p-1行、列0\n",
    "3. 将卷积和参数上下、左右翻转\n",
    "4. 做正常卷积运算（填充0， 步距1）\n",
    "\n",
    "> ![alt text](./assert/image-6.png)\n",
    "\n",
    "$$H_{out} = (H_{in} - 1) \\times stride_h - 2 \\times padding_h + kernel_h$$\n",
    "\n",
    "$$W_{out} = (W_{in} - 1) \\times stride_w - 2 \\times padding_w + kernel_w$$"
   ]
  },
  {
   "cell_type": "markdown",
   "metadata": {},
   "source": [
    "## 1.2 转置卷积与正常卷积对比"
   ]
  },
  {
   "cell_type": "markdown",
   "metadata": {},
   "source": [
    "_N.B.: Blue maps are inputs, and cyan maps are outputs._\n",
    "\n",
    "<table style=\"width:100%; table-layout:fixed;\">\n",
    "  <tr>\n",
    "    <td style=\"text-align: center;\"> <img width=\"400px\" src=\"./gif/no_padding_no_strides.gif\"></td>\n",
    "    <td style=\"text-align: center;\"> <img width=\"400px\" src=\"./gif/no_padding_no_strides_transposed.gif\"></td>    \n",
    "  </tr>\n",
    "  <tr>\n",
    "    <td style=\"text-align: center;\">padding=0, strides=1, k=3, conv</td>\n",
    "    <td style=\"text-align: center;\">padding=0, strides=1, k=3, transposed</td>\n",
    "  </tr>\n",
    "</table>"
   ]
  },
  {
   "cell_type": "markdown",
   "metadata": {},
   "source": [
    "## 1.3 转置卷积的gif动图"
   ]
  },
  {
   "cell_type": "markdown",
   "metadata": {},
   "source": [
    "_N.B.: Blue maps are inputs, and cyan maps are outputs._\n",
    "\n",
    "<table style=\"width:100%; table-layout:fixed;\">\n",
    "  <tr>\n",
    "    <td style=\"text-align: center;\"><img width=\"300px\" src=\"./gif/no_padding_no_strides_transposed.gif\"></td>\n",
    "    <td style=\"text-align: center;\"><img width=\"300px\" src=\"./gif/no_padding_strides_transposed.gif\"></td>\n",
    "    <td style=\"text-align: center;\"><img width=\"300px\" src=\"./gif/padding_strides_transposed.gif\"></td>\n",
    "  </tr>\n",
    "  <tr>\n",
    "    <td style=\"text-align: center;\">padding=0, strides=1, k=3, transposed</td>\n",
    "    <td style=\"text-align: center;\">padding=0, strides=2, k=3, transposed</td>\n",
    "    <td style=\"text-align: center;\">padding=1, strides=2, k=3, transposed</td>\n",
    "  </tr>\n",
    "</table>"
   ]
  },
  {
   "cell_type": "markdown",
   "metadata": {},
   "source": [
    "## 1.4 卷积的高效计算\n",
    "**普通卷积运算**:\n",
    "\n",
    "![alt text](./assert/image-4.png)\n",
    "\n",
    "\n",
    "**高效运算（正常卷积）**：\n",
    "\n",
    "1. 对原矩阵进行flatten等效\n",
    "> ![alt text](./assert/image-1.png)\n",
    "\n",
    "2. 将卷积kernel矩阵进行flatten等效\n",
    "> ![alt text](./assert/image-2.png)\n",
    "\n",
    "3. 将等效后的矩阵进行运算\n",
    "> ![alt text](./assert/image-3.png)\n",
    "\n",
    "**高效运算（转置卷积）**\n",
    "1. 矩阵等效\n",
    "> ![alt text](./assert/image-5.png)\n",
    "\n",
    "2. 原矩阵padding\n",
    "> ![alt text](./assert/image-7.png)\n",
    "\n",
    "3. 卷积矩阵上下左右翻转\n",
    "> ![alt text](./assert/image-8.png)"
   ]
  },
  {
   "cell_type": "markdown",
   "metadata": {},
   "source": []
  }
 ],
 "metadata": {
  "kernelspec": {
   "display_name": "cv",
   "language": "python",
   "name": "python3"
  },
  "language_info": {
   "codemirror_mode": {
    "name": "ipython",
    "version": 3
   },
   "file_extension": ".py",
   "mimetype": "text/x-python",
   "name": "python",
   "nbconvert_exporter": "python",
   "pygments_lexer": "ipython3",
   "version": "3.10.14"
  }
 },
 "nbformat": 4,
 "nbformat_minor": 2
}
